{
  "nbformat": 4,
  "nbformat_minor": 0,
  "metadata": {
    "colab": {
      "name": "Copy of M1 Python Assignment: Data Types & Loops TEMPLATE.ipynb",
      "provenance": [],
      "toc_visible": true,
      "include_colab_link": true
    },
    "kernelspec": {
      "name": "python3",
      "display_name": "Python 3"
    },
    "language_info": {
      "name": "python"
    }
  },
  "cells": [
    {
      "cell_type": "markdown",
      "metadata": {
        "id": "view-in-github",
        "colab_type": "text"
      },
      "source": [
        "<a href=\"https://colab.research.google.com/github/dougrandrade/NamesRepo/blob/main/Copy_of_M1_Python_Assignment_Data_Types_%26_Loops_TEMPLATE.ipynb\" target=\"_parent\"><img src=\"https://colab.research.google.com/assets/colab-badge.svg\" alt=\"Open In Colab\"/></a>"
      ]
    },
    {
      "cell_type": "markdown",
      "source": [
        "# [BUAD5802 AI] M1 Python Assignment: Data Types & Loops\n",
        "Learning Objective 1: Implement a mathematical function in Python code <br>\n",
        "Learning Objective 2: Use appropriate data types <br>\n",
        "Learning Objective 3: Convert data types <br>\n",
        "Learning Objective 4: Write a for loop <br>\n",
        "<br>\n",
        "Please make a copy of this template file and work on your own Google Drive/Spyder. <br>\n",
        "Please follow the template given here to complete all coding tasks.<br>"
      ],
      "metadata": {
        "id": "9pySfXTRGm4h"
      }
    },
    {
      "cell_type": "code",
      "source": [
        "import numpy as np"
      ],
      "metadata": {
        "id": "mECj4eMR9K-_"
      },
      "execution_count": null,
      "outputs": []
    },
    {
      "cell_type": "markdown",
      "source": [
        "# Task 1: Write the Sigmoid calculation from scratch #####\n",
        "\n",
        "The Sigmoid function is the activation function for constructing an ANN for logistic regression. The Sigmoid function is expressed mathematically as follows:<br>\n",
        "![sigmoid.svg](data:image/svg+xml;base64,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)\n",
        "\n",
        "<b> SAMPLE OUTPUTS</b> <br>\n",
        "Enter a numeric value (positive or negative): -2 <br>\n",
        "The Sigmoid output is 0.11920292202211755 <br>\n",
        "Enter a numeric value (positive or negative): 3 <br>\n",
        "The Sigmoid output is 0.9525741268224334"
      ],
      "metadata": {
        "id": "_MXJoaQvKR6_"
      }
    },
    {
      "cell_type": "code",
      "execution_count": 13,
      "metadata": {
        "id": "kChCvnLf7nEF",
        "colab": {
          "base_uri": "https://localhost:8080/"
        },
        "outputId": "5f52e510-20c4-4ce4-ef67-fa19f8591737"
      },
      "outputs": [
        {
          "name": "stdout",
          "output_type": "stream",
          "text": [
            "Enter a numeric value (positive or negative): -1\n"
          ]
        }
      ],
      "source": [
        "# a) Prompt the user to enter a numeric value. \n",
        "#    The value can be positive, negative, or zero. \n",
        "#    Note that in order to use the text that the user entered (which is captured as a string) in the mathematical calculation in the next step\n",
        "#    you might need to convert the string into a numeric value in some way\n",
        "#    Insert your code here (5 points)\n",
        "import math\n",
        "\n",
        "userVal = input('Enter a numeric value (positive or negative): ')\n",
        "sigmoid = 1 / (1 + math.exp(-int(userVal)))\n",
        "\n",
        "\n"
      ]
    },
    {
      "cell_type": "code",
      "source": [
        "# b) Print the Sigmoid calculation output of the value the user entered in step a) on the screen, \n",
        "#    proceeded by the text “The Sigmoid output is “. \n",
        "#    Insert your code here (10 points)\n",
        "\n",
        "print('The Sigmoid output is ', sigmoid)\n"
      ],
      "metadata": {
        "id": "ijyVpMI19HBO",
        "colab": {
          "base_uri": "https://localhost:8080/"
        },
        "outputId": "fd97ba1a-fe7d-46cb-b01c-705cc77dfaa5"
      },
      "execution_count": 14,
      "outputs": [
        {
          "output_type": "stream",
          "name": "stdout",
          "text": [
            "The Sigmoid output is  0.2689414213699951\n"
          ]
        }
      ]
    },
    {
      "cell_type": "markdown",
      "source": [
        "# Task 2: Apply the Sigmoid function to a series of numbers\n",
        "\n",
        "<b>SAMPLE OUTPUTS</b> <br>\n",
        "How many numbers will you enter?: 3 <br>\n",
        "Enter a numeric value (positive or negative): -1 <br>\n",
        "The Sigmoid output is 0.2689414213699951 <br>\n",
        "Enter a numeric value (positive or negative): 0 <br>\n",
        "The Sigmoid output is 0.5 <br>\n",
        "Enter a numeric value (positive or negative): 1 <br>\n",
        "The Sigmoid output is 0.7310585786300049 <br>"
      ],
      "metadata": {
        "id": "hu1waPneI-YS"
      }
    },
    {
      "cell_type": "code",
      "source": [
        "# a)\tAsk the user how many numbers there will be.\n",
        "#     Insert your code here (5 points)\n",
        "numUser = input('How many numbers will you enter? ')\n",
        "\n",
        "while int(numUser) > 0:\n",
        "  userVal  = input('Enter a numeric value (postive or negative): ')\n",
        "  sigmoid = 1 / (1 + math.exp(-int(userVal)))\n",
        "  numUser = int(numUser) - 1\n",
        "  print('The Sigmoid output is ', sigmoid)\n",
        "\n"
      ],
      "metadata": {
        "id": "utGgPAAtI1df",
        "colab": {
          "base_uri": "https://localhost:8080/"
        },
        "outputId": "96c2b0f9-bf87-45f7-9855-b147231cd4a9"
      },
      "execution_count": 9,
      "outputs": [
        {
          "output_type": "stream",
          "name": "stdout",
          "text": [
            "How many numbers will you enter? 3\n",
            "Enter a numeric value (postive or negative): -1\n",
            "The Sigmoid output is  0.2689414213699951\n",
            "Enter a numeric value (postive or negative): 0\n",
            "The Sigmoid output is  0.5\n",
            "Enter a numeric value (postive or negative): 1\n",
            "The Sigmoid output is  0.7310585786300049\n"
          ]
        }
      ]
    },
    {
      "cell_type": "code",
      "source": [
        "# b) Use a for loop to repeat the Sigmoid calculation you wrote above for the number of times requested by the user. \n",
        "#    For each repetition, you would ask the user to enter a new numeric value, \n",
        "#    and then print the Sigmoid output. \n",
        "#    Note that you don’t need to write a Python function, although you can, if that’s what you prefer.\n",
        "#    Insert your code here (10 points)\n",
        "\n",
        "numUser = input('How many numbers will you enter? ')\n",
        "\n",
        "for intCalc in range(int(numUser)):\n",
        "  userVal  = input('Enter a numeric value (postive or negative): ')\n",
        "  sigmoid = 1 / (1 + math.exp(-int(userVal)))\n",
        "  numUser = int(numUser) - 1\n",
        "  print('The Sigmoid output is ', sigmoid)\n",
        "\n",
        "\n"
      ],
      "metadata": {
        "id": "XFlzegxdJzSF",
        "colab": {
          "base_uri": "https://localhost:8080/"
        },
        "outputId": "3ec557f8-105d-46cf-adb1-bd85db340e3d"
      },
      "execution_count": 12,
      "outputs": [
        {
          "output_type": "stream",
          "name": "stdout",
          "text": [
            "How many numbers will you enter? 3\n",
            "Enter a numeric value (postive or negative): -1\n",
            "The Sigmoid output is  0.2689414213699951\n",
            "Enter a numeric value (postive or negative): 0\n",
            "The Sigmoid output is  0.5\n",
            "Enter a numeric value (postive or negative): 1\n",
            "The Sigmoid output is  0.7310585786300049\n"
          ]
        }
      ]
    },
    {
      "cell_type": "markdown",
      "source": [
        "You are done! <br>\n",
        "Submit your completed python script (.py file) on Canvas for grading"
      ],
      "metadata": {
        "id": "4aPo05sQQMJI"
      }
    }
  ]
}